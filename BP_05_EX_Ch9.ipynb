{
  "nbformat": 4,
  "nbformat_minor": 0,
  "metadata": {
    "colab": {
      "provenance": [],
      "authorship_tag": "ABX9TyNdLI2qnQhv3JqJKh0dOs6l",
      "include_colab_link": true
    },
    "kernelspec": {
      "name": "python3",
      "display_name": "Python 3"
    },
    "language_info": {
      "name": "python"
    }
  },
  "cells": [
    {
      "cell_type": "markdown",
      "metadata": {
        "id": "view-in-github",
        "colab_type": "text"
      },
      "source": [
        "<a href=\"https://colab.research.google.com/github/poopcatt/BP_05_Ch9/blob/main/BP_05_EX_Ch9.ipynb\" target=\"_parent\"><img src=\"https://colab.research.google.com/assets/colab-badge.svg\" alt=\"Open In Colab\"/></a>"
      ]
    },
    {
      "cell_type": "markdown",
      "source": [
        "1. 사용자로부터 5개의 숫자를 읽어서 리스트에 저장하고 숫자들의 평균을 계산하여 출력하는 프로그램을 작성해보자."
      ],
      "metadata": {
        "id": "HdNEMyneKR1x"
      }
    },
    {
      "cell_type": "code",
      "source": [
        "list = []\n",
        "sum = 0\n",
        "for i in range(5):                             #반복문 for i in range (5번 반복)\n",
        "    i = int(input(\"정수를 입력해주세요 : \"))\n",
        "    list.append(i)                             #append 함수로 값 추가\n",
        "    sum += i                                   #sum=sum+i 와 같다. (리스트 요소 증가)\n",
        "\n",
        "average = sum/len(list)                        #리스트의 길이는 len으로 알 수 있다.\n",
        "print(average)"
      ],
      "metadata": {
        "colab": {
          "base_uri": "https://localhost:8080/"
        },
        "id": "gx31ePuXKXTo",
        "outputId": "bf850166-612b-44b0-dd94-1131219f4066"
      },
      "execution_count": 2,
      "outputs": [
        {
          "output_type": "stream",
          "name": "stdout",
          "text": [
            "정수를 입력해주세요 : 10\n",
            "정수를 입력해주세요 : 20\n",
            "정수를 입력해주세요 : 30\n",
            "정수를 입력해주세요 : 40\n",
            "정수를 입력해주세요 : 50\n",
            "30.0\n"
          ]
        }
      ]
    },
    {
      "cell_type": "markdown",
      "source": [
        "2. 주사위를 던져서 나오는 값들의 빈도를 계산하는 프로그램을 작성해보자. 즉 1,2,3,4,5,6의 값이 각각 몇 번이나 나오는지를 계산한다. 난수 발생 함수와 리스트를 사용."
      ],
      "metadata": {
        "id": "-yjngXs9LVSW"
      }
    },
    {
      "cell_type": "code",
      "source": [
        "import random\n",
        "counters = [0, 0, 0, 0, 0, 0]\n",
        "\n",
        "for i in range(100):                                         #100번 반복\n",
        "    value = random.randint(0, 5)                             #리스트의 0,5 즉 1~6 번째 리스트에서 난수 발생.\n",
        "    counters[value] += 1                                     #counters[value]=counters[value]+1 (리스트의 요소 증가)\n",
        "\n",
        "for i in range(6):                                           #6번 반복\n",
        "    print(\"주사위가\", i+1,\"인 경우는 :\", counters[i],\"번\")"
      ],
      "metadata": {
        "colab": {
          "base_uri": "https://localhost:8080/"
        },
        "id": "hvoMraX0L5qF",
        "outputId": "860f8569-fe70-448d-bf3f-53311b9d0322"
      },
      "execution_count": 4,
      "outputs": [
        {
          "output_type": "stream",
          "name": "stdout",
          "text": [
            "주사위가 1 인 경우는 : 18 번\n",
            "주사위가 2 인 경우는 : 18 번\n",
            "주사위가 3 인 경우는 : 12 번\n",
            "주사위가 4 인 경우는 : 10 번\n",
            "주사위가 5 인 경우는 : 27 번\n",
            "주사위가 6 인 경우는 : 15 번\n"
          ]
        }
      ]
    },
    {
      "cell_type": "markdown",
      "source": [
        "3. 딕셔너리를 사용하여 친구들의 이름과 전화번호를 저장해보자. 사용자로부터 친구들의 이름과 전화번호를 입력받고 딕셔너리에 저장한다. 이름을 입력하지 않고 엔터키를 치면 검색모드가 된다. 검색 모드에서는 친구들의 이름으로 전화번호를 검색할 수 있도록 한다."
      ],
      "metadata": {
        "id": "NP7sEfWFMysN"
      }
    },
    {
      "cell_type": "code",
      "source": [
        "contacts={}                                              #리스트 선언\n",
        "\n",
        "while True:                                              #조건이 항상 True로 반복되기 때문에 무한반복문이 된다.\n",
        "  name = input(\"(입력) 이름을 입력하시오: \")\n",
        "  if not name:\n",
        "    break;                                               #break로 반복문 이탈\n",
        "  tel = input(\"전화번호를 입력하시오: \") \n",
        "  contacts[name] = tel\n",
        "        \n",
        "\n",
        "while True:\n",
        "  name = input(\"(검색모드) 이름을 입력하시오: \")\n",
        "  if not name:\n",
        "    break;\n",
        "  print(name,\"의 전화번호는\",contacts[name],\"입니다.\")"
      ],
      "metadata": {
        "colab": {
          "base_uri": "https://localhost:8080/"
        },
        "id": "JbXCgMgkNCSl",
        "outputId": "09a30342-8d80-4711-ca6c-92aceb78192c"
      },
      "execution_count": 9,
      "outputs": [
        {
          "name": "stdout",
          "output_type": "stream",
          "text": [
            "(입력) 이름을 입력하시오: 홍길동\n",
            "전화번호를 입력하시오: 010-1234-5678\n",
            "(입력) 이름을 입력하시오: \n",
            "(검색모드) 이름을 입력하시오: 홍길동\n",
            "홍길동 의 전화번호는 010-1234-5678 입니다.\n",
            "(검색모드) 이름을 입력하시오: \n"
          ]
        }
      ]
    },
    {
      "cell_type": "markdown",
      "source": [
        "7. 인터넷 도메인의 약자와 해당하는 국가를 딕셔너리에 저장해보자. 예를 들어서 \"kr\"은 대한민국으로 저장되어야 한다. 딕셔너리를 순회하면서 모든 키와 값을 출력하는 프로그램을 작성해보자."
      ],
      "metadata": {
        "id": "dzepp9OWO9as"
      }
    },
    {
      "cell_type": "code",
      "source": [
        "domains={\"kr\":\"대한민국\", \"us\":\"미국\", \"jp\":\"일본\", \"de\":\"독일\"}\n",
        "\n",
        "for i,j in domains.items():                                             #딕셔너리의 모든 값을 출력해주는 items 함수\n",
        "  print(i,\":\",j)"
      ],
      "metadata": {
        "colab": {
          "base_uri": "https://localhost:8080/"
        },
        "id": "dyhiUNvqPbWi",
        "outputId": "803a6469-de4f-4e27-d12c-92ab4e9ac2a9"
      },
      "execution_count": 13,
      "outputs": [
        {
          "output_type": "stream",
          "name": "stdout",
          "text": [
            "kr : 대한민국\n",
            "us : 미국\n",
            "jp : 일본\n",
            "de : 독일\n"
          ]
        }
      ]
    },
    {
      "cell_type": "markdown",
      "source": [
        "8. 딕셔너리에 문제와 정답을 저장하고 하나씩 꺼내서 사용자에게 제시하는 프로그램을 작성해보자. 사용자는 문자열로 답해야한다."
      ],
      "metadata": {
        "id": "WziDAPmSQn5J"
      }
    },
    {
      "cell_type": "code",
      "source": [
        "quest = {\"파이썬\":\"최근에 가장 떠오르는 프로그래밍 언어\",                 #리스트 선언\n",
        "         \"변수\":\"데이터를 저장하는 메모리 공간\",\n",
        "         \"함수\":\"작업을 수행하는 문장들의 집합에 이름을 붙인 것\",\n",
        "         \"리스트\":\"서로 관련이 없는 항목들의 모임\"}\n",
        "\n",
        "for word in quest.keys():                                                 #key(\"파이썬\",\"변수\",\"함수\",\"리스트\") 만 리스트로 만들어짐.\n",
        "  print(\"다음은 어떤 단어에 대한 설명일까?\")\n",
        "  print(quest[word])\n",
        "  print(\"(1)파이썬  (2)변수  (3)함수  (4)리스트\")\n",
        "\n",
        "  answer=input(\"\")\n",
        "  if answer==word:                                                        #등호(=) 두 개로 답이 일치함을 뜻함.\n",
        "    print(\"정답\")\n",
        "  else:\n",
        "    print(\"오답\")"
      ],
      "metadata": {
        "colab": {
          "base_uri": "https://localhost:8080/"
        },
        "id": "uVgZfn97Qwnx",
        "outputId": "4cf72f71-edee-4a39-c3bd-f2d0c260d229"
      },
      "execution_count": 18,
      "outputs": [
        {
          "output_type": "stream",
          "name": "stdout",
          "text": [
            "다음은 어떤 단어에 대한 설명일까?\n",
            "최근에 가장 떠오르는 프로그래밍 언어\n",
            "(1)파이썬  (2)변수  (3)함수  (4)리스트\n",
            "파이썬\n",
            "정답\n",
            "다음은 어떤 단어에 대한 설명일까?\n",
            "데이터를 저장하는 메모리 공간\n",
            "(1)파이썬  (2)변수  (3)함수  (4)리스트\n",
            "변수\n",
            "정답\n",
            "다음은 어떤 단어에 대한 설명일까?\n",
            "작업을 수행하는 문장들의 집합에 이름을 붙인 것\n",
            "(1)파이썬  (2)변수  (3)함수  (4)리스트\n",
            "함수\n",
            "정답\n",
            "다음은 어떤 단어에 대한 설명일까?\n",
            "서로 관련이 없는 항목들의 모임\n",
            "(1)파이썬  (2)변수  (3)함수  (4)리스트\n",
            "리스트\n",
            "정답\n"
          ]
        }
      ]
    }
  ]
}